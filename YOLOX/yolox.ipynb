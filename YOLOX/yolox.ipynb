{
 "cells": [
  {
   "cell_type": "markdown",
   "id": "371b64b0",
   "metadata": {},
   "source": [
    "# Setting"
   ]
  },
  {
   "cell_type": "code",
   "execution_count": null,
   "id": "48f2a532",
   "metadata": {},
   "outputs": [],
   "source": [
    "!pip install -U openmim\n",
    "!mim install mmengine\n",
    "!mim install \"mmcv>=2.0.0\""
   ]
  },
  {
   "cell_type": "code",
   "execution_count": null,
   "id": "f1653761",
   "metadata": {},
   "outputs": [],
   "source": [
    "%cd mmdetection\n",
    "!pip install -v -e . -r requirements/tracking.txt"
   ]
  },
  {
   "cell_type": "code",
   "execution_count": null,
   "id": "93a8af99",
   "metadata": {},
   "outputs": [],
   "source": [
    "!pip install git+https://github.com/SangHyun014/TrackEval.git\n",
    "#!pip install git+https://github.com/JonathonLuiten/TrackEval.git"
   ]
  },
  {
   "cell_type": "code",
   "execution_count": null,
   "id": "3e4f9f30",
   "metadata": {},
   "outputs": [],
   "source": [
    "!pip install lap"
   ]
  },
  {
   "cell_type": "markdown",
   "id": "cef7a481",
   "metadata": {},
   "source": [
    "# train"
   ]
  },
  {
   "cell_type": "code",
   "execution_count": null,
   "id": "93870d49",
   "metadata": {
    "scrolled": true
   },
   "outputs": [],
   "source": [
    "!python tools/train.py configs/visdrone/bytetrack_yolox_l_visdrone.py "
   ]
  },
  {
   "cell_type": "markdown",
   "id": "78cf414d",
   "metadata": {},
   "source": [
    "# Test"
   ]
  },
  {
   "cell_type": "code",
   "execution_count": null,
   "id": "7e7fb64c",
   "metadata": {
    "scrolled": true
   },
   "outputs": [],
   "source": [
    "!python tools/test_tracking.py configs/visdrone/bytetrack_yolox_l_visdrone.py --checkpoint work_dirs/yolox_notruc_mosaic+mixup_4b_2e/yolox_notruc_mosaic+mixup_4b_2e.pth"
   ]
  },
  {
   "cell_type": "code",
   "execution_count": null,
   "id": "653da21c",
   "metadata": {
    "scrolled": true
   },
   "outputs": [],
   "source": [
    "!python demo/mot_demo.py uav0000073_00600_v.mp4 configs/visdrone/bytetrack_yolox_l_visdrone.py --checkpoint work_dirs/yolox_notruc_mixup_4b_2e/yolox_notruc_mixup_4b_2e.pth --out uav0000073_00600_v_result.mp4 --fps 10 "
   ]
  }
 ],
 "metadata": {
  "kernelspec": {
   "display_name": "Python 3 (ipykernel)",
   "language": "python",
   "name": "python3"
  },
  "language_info": {
   "codemirror_mode": {
    "name": "ipython",
    "version": 3
   },
   "file_extension": ".py",
   "mimetype": "text/x-python",
   "name": "python",
   "nbconvert_exporter": "python",
   "pygments_lexer": "ipython3",
   "version": "3.9.7"
  }
 },
 "nbformat": 4,
 "nbformat_minor": 5
}
